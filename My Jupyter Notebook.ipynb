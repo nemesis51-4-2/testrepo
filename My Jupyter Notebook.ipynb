{
 "cells": [
  {
   "cell_type": "markdown",
   "metadata": {
    "collapsed": true
   },
   "source": [
    "# \"My Jupyter Notebook on IBM Watson Studio\""
   ]
  },
  {
   "cell_type": "markdown",
   "metadata": {},
   "source": [
    "**Brian Allen** \\\n",
    "Retired Army Vet"
   ]
  },
  {
   "cell_type": "markdown",
   "metadata": {},
   "source": [
    "*I am interested in data science because the knowledge and insight you can get from multiple datasources just seems endless. The amounts of data being analyzed would be very difficult if not next to impossible to do without the tools and resources available.*"
   ]
  },
  {
   "cell_type": "markdown",
   "metadata": {},
   "source": [
    "###### This code simulates the toy, \"Magic 8-Ball\", by answering Yes or No questions input by the user. ######"
   ]
  },
  {
   "cell_type": "code",
   "execution_count": 6,
   "metadata": {},
   "outputs": [
    {
     "name": "stdout",
     "output_type": "stream",
     "text": [
      "Welcome to the Magic 8-Ball!\n",
      "Ask Me a Yes or No Question...\n",
      "Type Your Question Here...Will I travel anywhere in 2023?\n",
      "It it Decidedly No\n",
      "ThankYou for Playing Magic 8-Ball\n"
     ]
    }
   ],
   "source": [
    "import random\n",
    "\n",
    "def response():\n",
    "    resp = [\"It is Certain\", \"Absolutley\", \"It Looks Promisimg\", \"No\", \"Does not Seem Likley\", \"It it Decidedly No\"]\n",
    "    rand_resp = random.choice(resp)\n",
    "    return rand_resp\n",
    "\n",
    "print(\"Welcome to the Magic 8-Ball!\")\n",
    "print(\"Ask Me a Yes or No Question...\")\n",
    "\n",
    "user_input = input(\"Type Your Question Here...\")\n",
    "\n",
    "print(response())\n",
    "print(\"ThankYou for Playing Magic 8-Ball\")"
   ]
  },
  {
   "cell_type": "markdown",
   "metadata": {},
   "source": [
    "Here is a good resource [Practice Python](https://www.practicepython.org/exercises/)\n",
    "\n",
    "![Run, I think It's about to erupt!](https://posts-cdn.kueez.net/OAyTRw3lzuXbeail/image-PsVOkM5mC70yIrht.jpg)\n",
    "\n",
    "* My\n",
    "* First\n",
    "* Project"
   ]
  },
  {
   "cell_type": "code",
   "execution_count": null,
   "metadata": {},
   "outputs": [],
   "source": []
  }
 ],
 "metadata": {
  "celltoolbar": "Raw Cell Format",
  "kernelspec": {
   "display_name": "Python 3.9",
   "language": "python",
   "name": "python3"
  },
  "language_info": {
   "codemirror_mode": {
    "name": "ipython",
    "version": 3
   },
   "file_extension": ".py",
   "mimetype": "text/x-python",
   "name": "python",
   "nbconvert_exporter": "python",
   "pygments_lexer": "ipython3",
   "version": "3.9.13"
  }
 },
 "nbformat": 4,
 "nbformat_minor": 1
}
